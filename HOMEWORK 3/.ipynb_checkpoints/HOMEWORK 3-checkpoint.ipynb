{
 "cells": [
  {
   "cell_type": "markdown",
   "metadata": {},
   "source": [
    "# HOMEWORK 3"
   ]
  },
  {
   "cell_type": "code",
   "execution_count": 4,
   "metadata": {},
   "outputs": [],
   "source": [
    "import pandas as pd\n",
    "import numpy as np\n",
    "import math\n",
    "import matplotlib.pyplot as plt\n",
    "from time import time\n",
    "%matplotlib inline "
   ]
  },
  {
   "cell_type": "markdown",
   "metadata": {},
   "source": [
    "### SEBASTIAN JOSUE ENDARA 00323096"
   ]
  },
  {
   "cell_type": "markdown",
   "metadata": {},
   "source": [
    "### 1. Merge two sorted lists\n",
    "\n",
    "1. Assume you have two sorted linked lists. Use **recursion** to merge these lists and return a new sorted list. \n",
    "\n",
    "For example:\n",
    "\n",
    "- Input: \n",
    "\n",
    "> L1 = 1 -> 3 -> 5 -> 7 -> null\n",
    "\n",
    "> L2 = 2 -> 4 -> 6 -> null\n",
    "\n",
    "- Output:\n",
    "\n",
    "> L4 = 1 -> 2 -> 3-> 4 -> 5 -> 6 -> 7 -> null\n",
    "\n",
    "2. Calculate complexity"
   ]
  },
  {
   "cell_type": "markdown",
   "metadata": {},
   "source": [
    "Primero toca declarar la clase node y singly linked list."
   ]
  },
  {
   "cell_type": "code",
   "execution_count": 23,
   "metadata": {},
   "outputs": [],
   "source": [
    "class Node: #Codigo obtenido de clase\n",
    "    \"\"\"\n",
    "    Implementation of a node\n",
    "    \"\"\"\n",
    "    def __init__(self, val=None):\n",
    "        self.val = val\n",
    "        self.next_node = None\n",
    "    \n",
    "    def set_next_node(self, next_node):\n",
    "        self.next_node = next_node\n",
    "class Singly_linked_list: #Codigo obtenido de clase\n",
    "    \"\"\"\n",
    "    Implementation of a singly linked list\n",
    "    \"\"\"\n",
    "    def __init__(self, head_node=None):\n",
    "        self.head_node = head_node\n",
    "        \n",
    "    def list_traversed(self):\n",
    "        node = self.head_node\n",
    "        while node:\n",
    "            print(node.val)\n",
    "            node = node.next_node\n",
    "    def fun_pop(self): #metodo para hacer el metodo pop en stack\n",
    "        \"\"\"\n",
    "        Complejidad de tiempo y memoria O(1): escrituras y lecturas de variables\n",
    "        \"\"\"\n",
    "        temp=self.head_node \n",
    "        self.head_node = self.head_node.next_node\n",
    "        temp.next_node=None #elmino enlace con la linked list\n",
    "        return temp.val\n",
    "        \n",
    "\n",
    "class Singly_linked_list(Singly_linked_list):\n",
    "    def insert_head(self, new_node):\n",
    "        # insert to the head\n",
    "        # A -> B -> null\n",
    "        # R -> A -> B -> null \n",
    "        new_node.set_next_node(self.head_node)\n",
    "        self.head_node = new_node\n",
    "    def insert_tail(self, new_node):\n",
    "        # insert to the tail\n",
    "        # A -> B -> null\n",
    "        # A -> B -> R -> null \n",
    "        node = self.head_node\n",
    "        prev = None\n",
    "        while node:\n",
    "            prev = node\n",
    "            node = node.next_node\n",
    "        prev.set_next_node(new_node)"
   ]
  },
  {
   "cell_type": "code",
   "execution_count": 24,
   "metadata": {},
   "outputs": [],
   "source": [
    "\"\"\"\n",
    "A continuacion se realiza la funcion merge para las dos linked lists\n",
    "\"\"\"\n",
    "def merge(n1,n2):#funcion que hara el merge entre los nodos de las listas\n",
    "    #la siguiente funcion contendra varios casos \n",
    "    if (n2==None): #no existe nodo2 retorno nodo1\n",
    "        return n1\n",
    "    if (n1==None): #no existe nodo1 retorno nodo2\n",
    "        return n2\n",
    "    if (n1.val<n2.val): #nodo1<nodo2 \n",
    "        n1.next_node = merge(n1.next_node,n2) # llamada recursiva a la funcion merge para que siga retornando los nodos de acuerdo al orden\n",
    "        return n1\n",
    "    else: #nodo2<nodo1\n",
    "        n2.next_node = merge(n1,n2.next_node) #llamada recursiva a la funcion merge para que siga retornando los nodos de acuerdo al orden\n",
    "        return n2\n"
   ]
  },
  {
   "cell_type": "code",
   "execution_count": 25,
   "metadata": {},
   "outputs": [],
   "source": [
    "#PRUEBA CODIGO\n",
    "#Nodos lista 1\n",
    "n_1_1 = Node(1)\n",
    "n_1_2 = Node(5)\n",
    "n_1_3 = Node(8)\n",
    "n_1_4 = Node(9)\n",
    "\n",
    "n_1_1.set_next_node(n_1_2)\n",
    "n_1_2.set_next_node(n_1_3)\n",
    "n_1_3.set_next_node(n_1_4)\n",
    "\n",
    "List_1 = Singly_linked_list(n_1_1)\n",
    "\n",
    "#Nodos lista 2\n",
    "n_2_1 = Node(2)\n",
    "n_2_2 = Node(4)\n",
    "n_2_3 = Node(6)\n",
    "n_2_4 = Node(7)\n",
    "\n",
    "n_2_1.set_next_node(n_2_2)\n",
    "n_2_2.set_next_node(n_2_3)\n",
    "n_2_3.set_next_node(n_2_4)\n",
    "\n",
    "List_2 = Singly_linked_list(n_2_1)\n"
   ]
  },
  {
   "cell_type": "code",
   "execution_count": 26,
   "metadata": {},
   "outputs": [
    {
     "name": "stdout",
     "output_type": "stream",
     "text": [
      "Linked list 1:\n",
      "1\n",
      "5\n",
      "8\n",
      "9\n",
      "Linked list 2:\n",
      "2\n",
      "4\n",
      "6\n",
      "7\n"
     ]
    }
   ],
   "source": [
    "#IMPRESION LISTAS\n",
    "print(\"Linked list 1:\")\n",
    "List_1.list_traversed()\n",
    "print(\"Linked list 2:\")\n",
    "List_2.list_traversed()"
   ]
  },
  {
   "cell_type": "code",
   "execution_count": 27,
   "metadata": {},
   "outputs": [
    {
     "name": "stdout",
     "output_type": "stream",
     "text": [
      "Merged Linked list:\n",
      "1\n",
      "2\n",
      "4\n",
      "5\n",
      "6\n",
      "7\n",
      "8\n",
      "9\n"
     ]
    }
   ],
   "source": [
    "#USO DE LA FUNCION MERGE PARA LA CREACION DE LA NUEVA LINKED LIST\n",
    "\n",
    "List_merged = Singly_linked_list(merge(List_1.head_node,List_2.head_node))\n",
    "\n",
    "#IMPRESION DE LA MERGED LINKED LIST\n",
    "print(\"Merged Linked list:\")\n",
    "List_merged.list_traversed()"
   ]
  },
  {
   "cell_type": "markdown",
   "metadata": {},
   "source": [
    "1.2 Complejidad de tiempo de ejecucion: la funcion merge en si solo realiza comparaciones entre dos variables lo cual conlleva un complejidad de tiempo constante o es$ O(1)$. Pero como existe recursion dentro de esta funcion, entonces la complejidad de tiempo es igual al numero de invocaciones recursivas multiplicado por la complejidad del algoritmo de la funcion, por lo tanto, el algoritmo al visitar cada uno de los nodos de cada lista, y cada lista puede tener un numero de $n$ nodos, entonces el numero de invocaciones depende los $ n $ nodos que tenga la lista.\n",
    "\n",
    "Por lo tanto:\n",
    "\n",
    "Numero de invocaciones = $n$\n",
    "Complejidad de tiempo de ejecucion algoritmo = $O (1)$\n",
    "\n",
    "Entonces complejidad de tiempo de ejecucion total : $n$  x  $O(1)$  $=$ $O (n)$"
   ]
  },
  {
   "cell_type": "markdown",
   "metadata": {},
   "source": [
    "### 2. Implement quick sort\n",
    "\n",
    "1. Use the divide and conquer technique to implement the quick sort algorithm studied in class. \n",
    "2. Use a couple of parragraphs to explain the steps of divide and conquer:\n",
    "    - how/where do you divide?\n",
    "    - where/what do you conquer?\n",
    "    - how/what do you combine?\n",
    "3. Analyze complexity"
   ]
  },
  {
   "cell_type": "markdown",
   "metadata": {},
   "source": [
    "Para la definicion de la siguiente funcion se tomo en cuenta el ejemplo de quick sort de la clase que divide la lista en sub listas dependiendo del pivote,el cual en el ejemplo es el primer elemento de la lista."
   ]
  },
  {
   "cell_type": "code",
   "execution_count": 21,
   "metadata": {},
   "outputs": [],
   "source": [
    "\"\"\"\n",
    "A continuacion, se realiza la funcion quicksort para un array.\n",
    "\"\"\"\n",
    "\n",
    "def quicksort(lista):\n",
    "    smaller_elements=[] #DIVIDE: se crean tres sub listas que contendran los elementos menores y mayores al pivote, y los iguales al pivote\n",
    "    larger_elements=[]\n",
    "    pivote_elements=[]\n",
    "    if lista:\n",
    "        pivote = lista[0]#se escoge el primer valor de la lista como pivote\n",
    "        for x in lista: # bucle para recorrer la lista y recolectar los valores mayores y menores en cada sub lista\n",
    "            if x>pivote:\n",
    "                larger_elements.append(x)\n",
    "            elif x<pivote:\n",
    "                smaller_elements.append(x)\n",
    "            else:\n",
    "                pivote_elements.append(x)\n",
    "            \n",
    "        return quicksort(smaller_elements)+pivote_elements+quicksort(larger_elements)#CONQUER AND COMBINE: Llamada recursiva y combinacion o concatenacion de la sub listas\n",
    "    else:\n",
    "        return lista "
   ]
  },
  {
   "cell_type": "code",
   "execution_count": 22,
   "metadata": {
    "scrolled": true
   },
   "outputs": [
    {
     "name": "stdout",
     "output_type": "stream",
     "text": [
      "[3, 4, 4, 4, 6, 7, 10, 11, 12]\n"
     ]
    }
   ],
   "source": [
    "\n",
    "#PRUEBA CODIGO\n",
    "list_ex=[11,4,6,10,12,7,3,4,4]\n",
    "\n",
    "print(quicksort(list_ex))"
   ]
  },
  {
   "cell_type": "markdown",
   "metadata": {},
   "source": [
    "2.2 Este algoritmo basado en el paradigma de divide and conquer:\n",
    "\n",
    "*DIVIDE:* Primero se escoge un pivote el cual puede ser el primer elemento de la lista o el ultimo, o hasta aleatorio; con el cual se divide la lista en dos sublistas que contendran los valores superiores e inferiores al pivote.\n",
    "\n",
    "*CONQUER:* Segundo se realiza una llamada recursiva a la funcion pero esta va hacia cada una de las sublistas, y asi se repite el proceso hasta llegar a tener solo un elemento en cada sublista.\n",
    "\n",
    "*COMBINE:* Tercero se realiza la concatenacion en cadena de las sublistas,por medio de la llamada recursiva, las cuales ya se encuentran ordenadas con su respectivo pivote al unirlas."
   ]
  },
  {
   "cell_type": "markdown",
   "metadata": {},
   "source": [
    "2.3 Complejidad de tiempo de ejecucion: la funcion quicksort realiza una iteracion de toda la lista lo cual conlleva un complejidad de tiempo lineal o es$ O(n)$. Pero como existe recursion dentro de esta funcion, entonces la complejidad de tiempo es igual al numero de invocaciones recursivas multiplicado por la complejidad del algoritmo de la funcion, por lo tanto, el algoritmo al dividirse la lista en dos sublistas cada vez que hay la llamada recursiva hace que un termino logaritmico represente el numero de divisiones de manera correcta.\n",
    "\n",
    "Por lo tanto:\n",
    "\n",
    "Numero de invocaciones = $log(n)$\n",
    "Complejidad de tiempo de ejecucion algoritmo = $O (n)$\n",
    "\n",
    "Entonces complejidad de tiempo de ejecucion total : $log(n)$  x  $O(n)$  $=$ $O (nlog(n))$ "
   ]
  },
  {
   "cell_type": "markdown",
   "metadata": {},
   "source": [
    "### 3. Compare quick sort and merge sort\n",
    "\n",
    "1. Generate 1000 random permutations of arrays of integers between 1 to 10000.\n",
    "2. Execute merge sort and quick sort for each of the permutations\n",
    "3. Calculate the execution time of these runs, and compare them using the statistics of the measured executed time.\n",
    "4. Explain the differences. Which algorithm is better? When would you use each?"
   ]
  },
  {
   "cell_type": "markdown",
   "metadata": {},
   "source": [
    "Primero se va reutilizar el codigo del decorador para capturar el tiempo de ejecucion."
   ]
  },
  {
   "cell_type": "code",
   "execution_count": 3,
   "metadata": {},
   "outputs": [],
   "source": [
    "# Codigo reutilizado del deber 1.\n",
    "from time import sleep\n",
    "def clock_time_dec(funcion): #declaracion del decorator (es como declarar una funcion)\n",
    "    def wrapper(*args,**kwargs):#definicion de la funcion envoltura, que toma de parametros lo que se ingrese en la funcion\n",
    "        time_1 = time()*10**6#tiempo inicial\n",
    "        salida = funcion(*args, **kwargs)#Ejecucion de funcion\n",
    "        time_2 = time()*10**6#tiempo final\n",
    "        return (salida,time_2-time_1) #retorno de funcion y tiempo de ejecucion, se resta el segundo de retraso por sleep\n",
    "    return wrapper\n"
   ]
  },
  {
   "cell_type": "code",
   "execution_count": 2,
   "metadata": {},
   "outputs": [],
   "source": [
    "\"\"\"\n",
    "A continuacion se reutilizara el codigo para merge sort visto en clase, y tambien reutilizara el codigo de quick sort \n",
    "realizado en la pregunta anterior.\n",
    "\"\"\"\n",
    "@clock_time_dec\n",
    "def merge_sort(nums):\n",
    "    if len(nums) <= 1:\n",
    "        return nums\n",
    "    pivot = int(len(nums) / 2)\n",
    "    left = merge_sort(nums[0:pivot])[0]\n",
    "    right = merge_sort(nums[pivot:])[0]\n",
    "    return merge(left, right)\n",
    "\n",
    "\n",
    "def merge(left, right):\n",
    "    left_pointer = 0\n",
    "    right_pointer = 0\n",
    "    sorted_list = []\n",
    "    while left_pointer < len(left) and right_pointer < len(right):\n",
    "        if left[left_pointer] < right[right_pointer]:\n",
    "            sorted_list.append(left[left_pointer])\n",
    "            left_pointer += 1\n",
    "        else:\n",
    "            sorted_list.append(right[right_pointer])\n",
    "            right_pointer += 1\n",
    "    \n",
    "    sorted_list.extend(left[left_pointer:])\n",
    "    sorted_list.extend(right[right_pointer:])\n",
    "    \n",
    "    return sorted_list\n",
    "\n",
    "#Reutilizacion del codigo de quick sort de la pregunta anterior, pero ahora tendra el decorador que mide el tiempo\n",
    "@clock_time_dec\n",
    "def quicksort(lista):\n",
    "    smaller_elements=[] #DIVIDE: se crean tres sub listas que contendran los elementos menores y mayores al pivote, y los iguales al pivote\n",
    "    larger_elements=[]\n",
    "    pivote_elements=[]\n",
    "    if lista:\n",
    "        pivote = lista[0]#se escoge el primer valor de la lista como pivote\n",
    "        for x in lista: # bucle para recorrer la lista y recolectar los valores mayores y menores en cada sub lista\n",
    "            if x>pivote:\n",
    "                larger_elements.append(x)\n",
    "            elif x<pivote:\n",
    "                smaller_elements.append(x)\n",
    "            else:\n",
    "                pivote_elements.append(x)\n",
    "            \n",
    "        return quicksort(smaller_elements)[0]+pivote_elements+quicksort(larger_elements)[0]#CONQUER AND COMBINE: Llamada recursiva y combinacion o concatenacion de la sub listas\n",
    "    else:\n",
    "        return lista "
   ]
  },
  {
   "cell_type": "code",
   "execution_count": 3,
   "metadata": {},
   "outputs": [],
   "source": [
    "\"\"\"\n",
    "Luego vamos a crear una funcion que permita crear arreglos con permutaciones aleatorias\n",
    "\"\"\"\n",
    "import random\n",
    "def random_permutation(n):\n",
    "    arr=[]#instancia array\n",
    "    for x in range(1,n):\n",
    "        var=random.randint(1,10000)#devuelve un numero aleatorio entre 1,n\n",
    "        arr.append(var)\n",
    "    return arr#devuelve array con valores aleatorio\n",
    "\n"
   ]
  },
  {
   "cell_type": "code",
   "execution_count": 4,
   "metadata": {},
   "outputs": [],
   "source": [
    "\"\"\"\n",
    "3.1 A continuacion, se crearan los 1000 arreglos de permutaciones aleatorias.\n",
    "\"\"\"\n",
    "Arrays=[]\n",
    "for i in range(1,1000):\n",
    "    Arrays.append(random_permutation(10000))"
   ]
  },
  {
   "cell_type": "code",
   "execution_count": 13,
   "metadata": {},
   "outputs": [],
   "source": [
    "\"\"\"\n",
    "3.2 Ahora, se aplicara merge sort y quick sort en cada arreglo de los 1000, y se capturaran los tiempos de ejecucion\n",
    "\"\"\"\n",
    "Tiempos_Merge=[]\n",
    "Tiempos_Quick=[]\n",
    "for i in range(0,999):\n",
    "    Tiempos_Quick.append(quicksort(Arrays[i])[1])\n",
    "    Tiempos_Merge.append(merge_sort(Arrays[i])[1])"
   ]
  },
  {
   "cell_type": "code",
   "execution_count": 14,
   "metadata": {},
   "outputs": [
    {
     "data": {
      "image/png": "[encoded data removed]",
      "text/plain": [
       "<Figure size 432x288 with 1 Axes>"
      ]
     },
     "metadata": {
      "needs_background": "light"
     },
     "output_type": "display_data"
    }
   ],
   "source": [
    "\"\"\"\n",
    "3.3 A continuacion se comparara los tiempos de ejecucion observando los tiempos de ejecucion en microsegundos .\n",
    "\"\"\"\n",
    "df_tiempos = pd.DataFrame()#inicializo dataframe\n",
    "df_tiempos['n']= range(999)#asignacion columna n con valores de n\n",
    "df_tiempos['Merge_Sort']=Tiempos_Merge # asignacion columna sum1 con los valores de ejecucion con Tiempos Merge sort\n",
    "df_tiempos['Quick_Sort']=Tiempos_Quick # asignacion columna sum 2 con los valores de ejecucion con Tiempos Quick sort\n",
    "df_tiempos.plot(x='n')# se grafica el dataframe\n",
    "plt.grid()"
   ]
  },
  {
   "cell_type": "markdown",
   "metadata": {},
   "source": [
    "\n",
    "3.4 A continuacion se determinara la diferencia entre ambos algoritmos y cual algoritmo es mejor que el otro.\n",
    "\n",
    "Primero se observa que los tiempos de ejecucion con Merge_sort son mayores en comparacion con quick_sort, ya que la grafica de Merge_Sort se encuentra por arriba de la grafica de quick_sort, lo cual indicaria que quick_sort tendria un mejor desempeño en tiempo de ejecucion, todo esto si tiene sentido ya que la complejidad de tiempo de ejecucion para Merge_sort es $O(n^2)$ a diferencia de la complejidad de quick_sort, la cual tienen una complejidad de tiempo de ejecucion de $O(nlog(n))$ y es mejor en rendimiento al compararla con un $O(n^2)$\n",
    "\n",
    "Por lo tanto; \n",
    "\n",
    "La principal diferencia es la complejidad de tiempo de ejecucion entre estos dos algoritmos.\n",
    "\n",
    "Quick_Sort es mejor algoritmo para ordenar ya que la complejidad de tiempo de ejecucion es $O(nlog(n))$ y esta es menor que a la complejidad de tiempo de ejecucion de Merge_Sort con $O(n^2)$.\n",
    "\n",
    "Un caso en el que seria mejor utilizar Merge_Sort es cuando se le entrega una lista ya ordenada ya que la complejidad seria $O(n)$ pero dicho caso no tendria mucho sentido realizarlo."
   ]
  },
  {
   "cell_type": "markdown",
   "metadata": {},
   "source": [
    "### 4. Implement factorials with recursion\n",
    "\n",
    "Recall that a factorial number is defined as:\n",
    "\n",
    "$k! = k \\times (k-1) \\times (k-2) \\times ... \\times 2 \\times 1$\n",
    "\n",
    "For example: $3! = 3 \\times 2 \\times 1 = 6$\n",
    "\n",
    "1. Use recursion to implement the factorial\n",
    "2. Run your code for numbers between 1 and 10000\n",
    "3. Calculate the execution time and plot it. \n",
    "4. What's the complexity?\n",
    "5. Implement memoization to improve the performance of your code\n",
    "6. Measure the runtime when you calculate the factorial for numbers between 1 and 10000.\n",
    "7. What's the complexity of your code using memoization?\n",
    "8. How does the first implementation and the one with memoization compare?"
   ]
  },
  {
   "cell_type": "code",
   "execution_count": 5,
   "metadata": {},
   "outputs": [],
   "source": [
    "\"\"\"\n",
    "4.1 Implementacion de factorial utilizando recursion:\n",
    "\"\"\"\n",
    "@clock_time_dec\n",
    "def factorial(n):#funcion factorial\n",
    "    if n==0:#caso base\n",
    "        return 1 \n",
    "    return n*factorial(n-1) #llamada recursiva hasta llegar n==0\n",
    "\n",
    "    "
   ]
  },
  {
   "cell_type": "code",
   "execution_count": 6,
   "metadata": {},
   "outputs": [],
   "source": [
    "\"\"\"\n",
    "4.2 y 4.3 Correr codigo entre numeros del 1 al 1000 y capturar tiempo de ejecucion en microsegundos para luego graficarlo\n",
    "\"\"\"\n",
    "Tiempos_factorial=[]\n",
    "for x in range(1,1000):\n",
    "    Tiempos_factorial.append(factorial(x)[1])"
   ]
  },
  {
   "cell_type": "code",
   "execution_count": 8,
   "metadata": {},
   "outputs": [
    {
     "data": {
      "image/png": "[encoded data removed]",
      "text/plain": [
       "<Figure size 432x288 with 1 Axes>"
      ]
     },
     "metadata": {
      "needs_background": "light"
     },
     "output_type": "display_data"
    }
   ],
   "source": [
    "\"\"\"\n",
    "A continuacion, se grafican los tiempos correspondientes a cada factorial\n",
    "\"\"\"\n",
    "data_frame_times_1 = pd.DataFrame()\n",
    "data_frame_times_1[\"numeros\"] = range(1,1000)\n",
    "data_frame_times_1['Tiempos_Factoriales']=Tiempos_factorial\n",
    "data_frame_times_1.plot(x='numeros')\n",
    "plt.grid()"
   ]
  },
  {
   "cell_type": "markdown",
   "metadata": {},
   "source": [
    "4.4 Complejidad de tiempo de ejecucion: la funcion factorial realiza solo lectura y retorno de valores los cuales conllevan una complejidad de tiempo de ejecucion de $ O(1)$. Pero como existe recursion dentro de esta funcion, entonces la complejidad de tiempo es igual al numero de invocaciones recursivas multiplicado por la complejidad del algoritmo de la funcion, por lo tanto, el algoritmo al tener una llamada recursiva por cada vez que se le resta 1 al numero que se le va hacer el factorial, indica que el numero de invocaciones recursivas sera igual al numero o n ya que se resta 1 por cada iteracion hasta llegar a 0.\n",
    "\n",
    "Por lo tanto:\n",
    "\n",
    "Numero de invocaciones = $n$\n",
    "Complejidad de tiempo de ejecucion algoritmo = $O (1)$\n",
    "\n",
    "Entonces complejidad de tiempo de ejecucion total : $n$  x  $O(1)$  $=$ $O (n)$ "
   ]
  },
  {
   "cell_type": "code",
   "execution_count": 13,
   "metadata": {},
   "outputs": [],
   "source": [
    "\"\"\"\n",
    "4.5 Se implementa el factorial pero utilizando memorizacion:\n",
    "\"\"\"\n",
    "memo={}# aqui se guardan los factoriales \n",
    "@clock_time_dec\n",
    "def Factorial_Memoization(n):\n",
    "    if n==0:\n",
    "        return 1\n",
    "    if n in memo.keys():\n",
    "        return memo[n]\n",
    "    else:\n",
    "        memo[n] = n*factorial(n-1)\n",
    "        return memo[n]\n",
    "\"\"\"\n",
    "Ej. 4.5 hecho en colaboracion con Christian Santamaria\n",
    "\"\"\""
   ]
  },
  {
   "cell_type": "code",
   "execution_count": 14,
   "metadata": {},
   "outputs": [],
   "source": [
    "\"\"\"\n",
    "4.6 Correr codigo entre numeros del 1 al 1000 y capturar tiempo de ejecucion en microsegundos para luego graficarlo\n",
    "\"\"\"\n",
    "Tiempos_factorial_1=[]\n",
    "for x in range(1,1000):\n",
    "    Tiempos_factorial_1.append(Factorial_Memoization(x)[1])"
   ]
  },
  {
   "cell_type": "code",
   "execution_count": 15,
   "metadata": {},
   "outputs": [
    {
     "data": {
      "image/png": "[encoded data removed]",
      "text/plain": [
       "<Figure size 432x288 with 1 Axes>"
      ]
     },
     "metadata": {
      "needs_background": "light"
     },
     "output_type": "display_data"
    }
   ],
   "source": [
    "\"\"\"\n",
    "A continuacion, se grafican los tiempos correspondientes a cada factorial\n",
    "\"\"\"\n",
    "data_frame_times_1 = pd.DataFrame()\n",
    "data_frame_times_1[\"numeros\"] = range(1,1000)\n",
    "data_frame_times_1['Tiempos_Factoriales']=Tiempos_factorial_1\n",
    "data_frame_times_1.plot(x='numeros')\n",
    "plt.grid()"
   ]
  },
  {
   "cell_type": "markdown",
   "metadata": {},
   "source": [
    "4.7 Para determinar la complejidad de los tiempos de ejecucion de la funcion factorial con memorizacion, hay que analizar los casos que el algoritmo puede presentar una complejidad diferente al factorial con solo recursion sin memorizacion. \n",
    "\n",
    "Este algoritmo puede presentar complejidad de tiempo de ejecucion $O(1)$, ya que al usar memorizacion y primeramente haber usado la funcion para determinar el factorial de un numero grande, hace que se guarde en la memoria los factoriales que se encuentran entre el rango de 1 hasta el numero grande que se habia entrenado en una primera instancia, por lo tanto, al usar esta funcion para obtener el factorial de un numero que se encuentre en ese rango, la funcion retornara instantaneamente el valor del factorial evitando usar las llamadas recursivas."
   ]
  },
  {
   "cell_type": "markdown",
   "metadata": {},
   "source": [
    "4.8 El algoritmo utilizado en primera instancia constituye una complejidad de tiempo de ejecucion mas alta al compararle con el algoritmo utilizado en segunda instancia al inicializarlo con un factorial grande y haciendo uso de los factoriales guardados en memoria, por lo tanto, se determina que el algoritmo con memorizacion va a tener mejor rendimiento en caso que se cumpla la condicion que hace que la complejidad de tiempo de ejecucion sea constante."
   ]
  }
 ],
 "metadata": {
  "kernelspec": {
   "display_name": "Python 3",
   "language": "python",
   "name": "python3"
  },
  "language_info": {
   "codemirror_mode": {
    "name": "ipython",
    "version": 3
   },
   "file_extension": ".py",
   "mimetype": "text/x-python",
   "name": "python",
   "nbconvert_exporter": "python",
   "pygments_lexer": "ipython3",
   "version": "3.8.3"
  }
 },
 "nbformat": 4,
 "nbformat_minor": 4
}
