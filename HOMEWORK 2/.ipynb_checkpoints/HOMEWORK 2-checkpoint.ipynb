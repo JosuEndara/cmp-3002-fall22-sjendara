{
 "cells": [
  {
   "cell_type": "markdown",
   "metadata": {},
   "source": [
    "# HOMEWORK 2"
   ]
  },
  {
   "cell_type": "code",
   "execution_count": 108,
   "metadata": {},
   "outputs": [],
   "source": [
    "import pandas as pd\n",
    "import numpy as np\n",
    "import math\n",
    "import matplotlib.pyplot as plt\n",
    "from time import time\n",
    "%matplotlib inline "
   ]
  },
  {
   "cell_type": "markdown",
   "metadata": {},
   "source": [
    "### SEBASTIAN JOSUE ENDARA 00323096"
   ]
  },
  {
   "cell_type": "markdown",
   "metadata": {},
   "source": [
    "### 1. Implement the class `Stacks` and all its methods using singly linked lists. Analyze the runtime and memory complexity, and compare with what we studied in class"
   ]
  },
  {
   "cell_type": "markdown",
   "metadata": {},
   "source": [
    "### Primero se declara el respectivo decorador que mide el tiempo de ejecucion."
   ]
  },
  {
   "cell_type": "markdown",
   "metadata": {},
   "source": [
    "Primero toca declarar la clase node y singly linked list."
   ]
  },
  {
   "cell_type": "code",
   "execution_count": 110,
   "metadata": {},
   "outputs": [],
   "source": [
    "class Node: #Codigo obtenido de clase\n",
    "    \"\"\"\n",
    "    Implementation of a node\n",
    "    \"\"\"\n",
    "    def __init__(self, val=None):\n",
    "        self.val = val\n",
    "        self.next_node = None\n",
    "    \n",
    "    def set_next_node(self, next_node):\n",
    "        self.next_node = next_node\n",
    "class Singly_linked_list: #Codigo obtenido de clase\n",
    "    \"\"\"\n",
    "    Implementation of a singly linked list\n",
    "    \"\"\"\n",
    "    def __init__(self, head_node=None):\n",
    "        self.head_node = head_node\n",
    "        \n",
    "    def list_traversed(self):\n",
    "        node = self.head_node\n",
    "        while node:\n",
    "            print(node.val)\n",
    "            node = node.next_node\n",
    "    def fun_pop(self): #metodo para hacer el metodo pop en stack\n",
    "        \"\"\"\n",
    "        Complejidad de tiempo y memoria O(1): escrituras y lecturas de variables\n",
    "        \"\"\"\n",
    "        temp=self.head_node \n",
    "        self.head_node = self.head_node.next_node\n",
    "        temp.next_node=None #elmino enlace con la linked list\n",
    "        return temp.val\n",
    "        \n",
    "\n",
    "class Singly_linked_list(Singly_linked_list):\n",
    "    def insert_head(self, new_node):\n",
    "        # insert to the head\n",
    "        # A -> B -> null\n",
    "        # R -> A -> B -> null \n",
    "        new_node.set_next_node(self.head_node)\n",
    "        self.head_node = new_node\n",
    "    def insert_tail(self, new_node):\n",
    "        # insert to the tail\n",
    "        # A -> B -> null\n",
    "        # A -> B -> R -> null \n",
    "        node = self.head_node\n",
    "        prev = None\n",
    "        while node:\n",
    "            prev = node\n",
    "            node = node.next_node\n",
    "        prev.set_next_node(new_node)"
   ]
  },
  {
   "cell_type": "code",
   "execution_count": 111,
   "metadata": {},
   "outputs": [],
   "source": [
    "\"\"\"\n",
    "A continuacion se procede a implementar la clase stacks y sus metodos, utilizando linked lists, pero vamos hacer la\n",
    "insercion y la eliminacion por la cabeza de la linked list, haciendo que esta actue como el top del stack.\n",
    "\"\"\"\n",
    "class Stack_Linked_List:\n",
    "    def __init__(self, n):\n",
    "        self.l = 0\n",
    "        self.n = n\n",
    "        self.stack = Singly_linked_list()   #esta instanciando una singly linked list \n",
    "        \n",
    "    def empty(self): # Se chequea si esta vacio el stack\n",
    "        \"\"\"\n",
    "        Complejidad de tiempo y memoria O(1):lecturas\n",
    "        \"\"\"\n",
    "        if self.stack.head_node == None:\n",
    "            return True\n",
    "        else:\n",
    "            return False\n",
    "        \n",
    "\n",
    "    def push(self,item): # metodo push utiliza insert_head para meter el nuevo elemento \n",
    "        \"\"\"\n",
    "        Complejidad de tiempo y memoria O(1):escritura y lectura de variables\n",
    "        \"\"\"\n",
    "        if self.l == self.n:\n",
    "            raise ValueError(\"no more capacity\")\n",
    "        node_1 = Node(item) \n",
    "        self.stack.insert_head(node_1)\n",
    "        self.l += 1\n",
    "        \n",
    "    def pop(self): # metodo pop para sacar el ultimo item \n",
    "        \"\"\"\n",
    "        Complejidad de tiempo y memoria O(1):escritura y lectura de variables\n",
    "        \"\"\"\n",
    "        if not self.l:\n",
    "            raise('stack is empty')\n",
    "        self.l -= 1\n",
    "        return self.stack.fun_pop() # utiliza la funcion fun_pop de Singly linked list, para eliminar el head node actual\n",
    "    \n",
    "    def top(self):\n",
    "        \"\"\"\n",
    "        Complejidad de tiempo y memoria O(1):lecturas de variables\n",
    "        \"\"\"\n",
    "        if not self.l:\n",
    "            raise('stack is empty')\n",
    "        else:\n",
    "            return self.stack.head_node.val #devuelve el valor que se encuentra en el tope de la lista\n",
    "        \n",
    "    def full(self):#metodo full para comprobar si el stack esta lleno o no\n",
    "        \"\"\"\n",
    "        Complejidad de tiempo y memoria O(1):lectura de variables\n",
    "        \"\"\"\n",
    "        return self.l == self.n\n",
    "    \n",
    "    def size(self):#metodo size para obtener el tamaño del stack\n",
    "        \"\"\"\n",
    "        Complejidad de tiempo y memoria O(1):lectura de variables\n",
    "        \"\"\"\n",
    "        return self.l\n",
    "        "
   ]
  },
  {
   "cell_type": "code",
   "execution_count": 69,
   "metadata": {},
   "outputs": [
    {
     "name": "stdout",
     "output_type": "stream",
     "text": [
      "4\n"
     ]
    }
   ],
   "source": [
    "St_2= Stack_Linked_List(8) # Inicializacion stack de 8 usando linked list\n",
    "St_2.push(\"A\") #metodo push que ingresa A al stack\n",
    "St_2.push(\"B\") #metodo push que ingresa B al stack\n",
    "St_2.push(\"C\") #metodo push que ingresa C al stack \n",
    "St_2.push(\"D\") #metodo push que ingresa D al stack \n",
    "print(St_2.size()) #metodo size para comprobar el tamaño del Stack"
   ]
  },
  {
   "cell_type": "code",
   "execution_count": 70,
   "metadata": {},
   "outputs": [
    {
     "name": "stdout",
     "output_type": "stream",
     "text": [
      "D\n"
     ]
    }
   ],
   "source": [
    "print(St_2.pop()) #metodo pop que elimina el valor que esta en el top del Stack"
   ]
  },
  {
   "cell_type": "code",
   "execution_count": 71,
   "metadata": {},
   "outputs": [
    {
     "name": "stdout",
     "output_type": "stream",
     "text": [
      "False\n"
     ]
    }
   ],
   "source": [
    "print(St_2.empty()) #metodo para comprobar si el Stack esta vacio"
   ]
  },
  {
   "cell_type": "code",
   "execution_count": 72,
   "metadata": {},
   "outputs": [
    {
     "name": "stdout",
     "output_type": "stream",
     "text": [
      "4\n"
     ]
    }
   ],
   "source": [
    "St_2.push(\"E\") #metodo push que ingresa E al stack \n",
    "print(St_2.size()) #metodo size para comprobar el tamaño del Stack"
   ]
  },
  {
   "cell_type": "code",
   "execution_count": 73,
   "metadata": {},
   "outputs": [
    {
     "name": "stdout",
     "output_type": "stream",
     "text": [
      "E\n"
     ]
    }
   ],
   "source": [
    "print(St_2.pop()) #metodo pop que elimina el valor que esta en el top del Stack"
   ]
  },
  {
   "cell_type": "code",
   "execution_count": 74,
   "metadata": {},
   "outputs": [
    {
     "name": "stdout",
     "output_type": "stream",
     "text": [
      "3\n"
     ]
    }
   ],
   "source": [
    "print(St_2.size()) #metodo size para comprobar el tamaño del Stack"
   ]
  },
  {
   "cell_type": "code",
   "execution_count": 75,
   "metadata": {},
   "outputs": [
    {
     "name": "stdout",
     "output_type": "stream",
     "text": [
      "False\n"
     ]
    }
   ],
   "source": [
    "print(St_2.full()) #metodo full para comprobar si el Stack esta lleno"
   ]
  },
  {
   "cell_type": "code",
   "execution_count": 76,
   "metadata": {},
   "outputs": [
    {
     "name": "stdout",
     "output_type": "stream",
     "text": [
      "False\n"
     ]
    }
   ],
   "source": [
    "print(St_2.empty()) #metodo empty para comprobar si el Stack esta vacio"
   ]
  },
  {
   "cell_type": "markdown",
   "metadata": {},
   "source": [
    "Pregunta 1 realizada en colaboracion con Christian Santamaria."
   ]
  },
  {
   "cell_type": "markdown",
   "metadata": {},
   "source": [
    "### Se observa que todos los metodos del Stack utilizando linked list tienen complejidad O(1), y tambien se sabe que todos los metodos de la clase Stack hecha en clase tienen complejidad O(1), entonces se determina que ambos algoritmos se desempeñarian igual por tener la misma complejidad."
   ]
  },
  {
   "cell_type": "markdown",
   "metadata": {},
   "source": [
    "### 2. Write a method part of the linked list class that will reverse the linked list. Your implementation should visit each node in the list only one time, and should use $O(1)$ of extra memory.\n",
    "\n",
    "\n",
    "> For example, if the list is:\n",
    "\n",
    "> A -> B -> C -> D -> null\n",
    "\n",
    "> The method must return:\n",
    "\n",
    "> D -> C -> B -> A -> null\n",
    "\n"
   ]
  },
  {
   "cell_type": "code",
   "execution_count": 112,
   "metadata": {},
   "outputs": [],
   "source": [
    "class Singly_linked_list(Singly_linked_list):\n",
    "    def reverse_linked_list(self):\n",
    "        \"\"\"\n",
    "        En general, para este metodo se itera por cada uno de los nodos, y hace que cada nodo apunte al nodo anterior a este\n",
    "        por eso se inicializa una variable prior que apunta al puntero nulo, para que esta quede al final de la linked\n",
    "        list, y al final cuando el iterador current llega hasta el puntero nulo de la lista que no esta dada la vuelta, \n",
    "        sale del bucle y hace que la cabeza de la linked list sea igual al nodo prior que al terminar el bucle es igual \n",
    "        a la cola de la lista original.\n",
    "        \"\"\"\n",
    "        prior_node = None #inicializamos un nodo previo (prior) con un puntero nulo\n",
    "        current_node = self.head_node #inicializamos nodo (current) con declaracion hacia el nodo cabeza de la linked list\n",
    "        while(current_node is not None): #recorremos la lista hasta que el iterador current(nodo) pase por cada uno de los nodos\n",
    "            next_node_1 = current_node.next_node \n",
    "            current_node.next_node = prior_node\n",
    "            prior_node = current_node\n",
    "            current_node = next_node_1\n",
    "        self.head_node = prior_node \n",
    "\n",
    "    "
   ]
  },
  {
   "cell_type": "code",
   "execution_count": 64,
   "metadata": {},
   "outputs": [
    {
     "name": "stdout",
     "output_type": "stream",
     "text": [
      "A\n",
      "B\n",
      "C\n",
      "D\n",
      "E\n"
     ]
    }
   ],
   "source": [
    "\"\"\"\n",
    "Prueba de codigo:\n",
    "\"\"\"\n",
    "n1 = Node(\"A\")\n",
    "n2 = Node(\"B\")\n",
    "n3 = Node(\"C\")\n",
    "n4 = Node(\"D\")\n",
    "n5 = Node(\"E\")\n",
    "n1.set_next_node(n2)\n",
    "n2.set_next_node(n3)\n",
    "n3.set_next_node(n4)\n",
    "n4.set_next_node(n5)\n",
    "Linked_list_1 = Singly_linked_list(n1) #Inicializo la linked list\n",
    "Linked_list_1.list_traversed() #Imprimo linked list sin dar la vuelta"
   ]
  },
  {
   "cell_type": "code",
   "execution_count": 65,
   "metadata": {},
   "outputs": [
    {
     "name": "stdout",
     "output_type": "stream",
     "text": [
      "E\n",
      "D\n",
      "C\n",
      "B\n",
      "A\n"
     ]
    }
   ],
   "source": [
    "\"\"\"\n",
    "Prueba de codigo:\n",
    "\"\"\"\n",
    "Linked_list_1.reverse_linked_list() #Metodo para dar la vuelta la linked list\n",
    "Linked_list_1.list_traversed() #Imprimo linked list ya dada la vuelta"
   ]
  },
  {
   "cell_type": "markdown",
   "metadata": {},
   "source": [
    "### 3. Implement the class Queue using stacks. \n",
    "\n",
    "> a. Analyze the runtime and memory complexity, and compare with what we implemented in class.\n",
    "\n",
    "> b. Implement a few test cases that would allow you to measure the difference in runtime of the `dequeue` method. (Hint: what is the worst case, so that dequeue of the stack implementation is greater than the implementation we did in class?)"
   ]
  },
  {
   "cell_type": "markdown",
   "metadata": {},
   "source": [
    "### Primero reutilizamos la clase Stack vista en clase"
   ]
  },
  {
   "cell_type": "code",
   "execution_count": 5,
   "metadata": {},
   "outputs": [],
   "source": [
    "import ctypes\n",
    "class Stack(object):\n",
    "    \"\"\"\n",
    "    Implementation of the stack data structure\n",
    "    \"\"\"\n",
    "\n",
    "    def __init__(self, n):\n",
    "        self.l = 0\n",
    "        self.n = n\n",
    "        self.stack = self._create_stack(self.n)        \n",
    "    \n",
    "    def _create_stack(self, n):\n",
    "        \"\"\"\n",
    "        Creates a new stack of capacity n\n",
    "        \"\"\"\n",
    "        return (n * ctypes.py_object)()\n",
    "    def push(self, item):\n",
    "        \"\"\"\n",
    "        Add new item to the stack\n",
    "        \"\"\"\n",
    "        if self.l == self.n:\n",
    "            raise ValueError(\"no more capacity\")\n",
    "        self.stack[self.l] = item\n",
    "        self.l += 1\n",
    "    def pop(self):\n",
    "        \"\"\"\n",
    "        Remove an element from the stack\n",
    "        \"\"\"\n",
    "        if not self.l:\n",
    "            raise('stack is empty')\n",
    "        c = self.stack[self.l-1]\n",
    "        self.stack[self.l] = ctypes.py_object\n",
    "        self.l -= 1\n",
    "        return c\n",
    "    def full(self):\n",
    "        \"\"\"\n",
    "        Is the stack full?\n",
    "        \"\"\"\n",
    "        return self.l == self.n\n",
    "        # if self.l == self.n:\n",
    "        #    return True\n",
    "        # return False\n",
    "\n",
    "    def empty(self):\n",
    "        \"\"\"\n",
    "        Is the stack empty?\n",
    "        \"\"\"\n",
    "        return self.l == 0\n",
    "        #if self.l == 0:\n",
    "        #    return True\n",
    "        #return False\n",
    "\n",
    "    def size(self):\n",
    "        \"\"\"\n",
    "        Return size of the stack\n",
    "        \"\"\"\n",
    "        return self.l\n",
    "    def top(self):\n",
    "        \"\"\"\n",
    "        Show the top element of the stack\n",
    "        \"\"\"\n",
    "        return self.stack[self.l-1]"
   ]
  },
  {
   "cell_type": "code",
   "execution_count": 4,
   "metadata": {},
   "outputs": [],
   "source": [
    "class Queue_Stack:\n",
    "    \"\"\"\n",
    "    Para la creacion de esta clase Queue, se utilizaran dos stacks, el uno servira para recolectar los valores cada vez que\n",
    "    se haga un enqueue y el otro stack servira para tener los valores que esten listos para hacer un dequeue, de tal manera\n",
    "    se imitara la forma en que trabaja una queue utilizando dos stacks.\n",
    "    \"\"\"\n",
    "    def __init__(self, n):\n",
    "        self.l = 0\n",
    "        self.n = n\n",
    "        self.stack_1=Stack(n) #Stack de enqueue\n",
    "        self.stack_2=Stack(n) #Stack de dequeue\n",
    "    def enqueue(self,item):\n",
    "        \"\"\"\n",
    "        Add new item to the queue\n",
    "        Complejidad de tiempo  y memoria O(1): solo se realiza lectura y escritura de variables entre los dos stacks que conforman la queue\n",
    "        \"\"\"\n",
    "        if self.l == self.n:\n",
    "            raise ValueError(\"no more capacity\")\n",
    "        self.stack_1.push(item) # se introduce el valor al stack de enqueue\n",
    "        if self.stack_2.empty(): # en caso que este vacio el stack de dequeue, se pasan los valores del stack de enqueue al stack de dequeue invertidos\n",
    "            self.stack_2.push(self.stack_1.pop())\n",
    "            print(self.stack_2.top())\n",
    "        self.l += 1\n",
    "    @clock_time_dec\n",
    "    def dequeue(self):\n",
    "        \"\"\"\n",
    "        Remove an element from the queue\n",
    "        Complejidad de tiempo O(n): Solo en caso que el stack de dequeue este vacio, porque se recorre todos los items del stack de enqueue y se los pasa al stack de dequeue invertidos,\n",
    "        por medio de un bucle for. \n",
    "        Pero en caso de que el stack de dequeue este lleno, la complejidad de este metodo queda en O(1).\n",
    "        Complejidad de memoria O(1).\n",
    "        \n",
    "        \"\"\"\n",
    "        if self.empty():#se comprueba que el queue no este vacio\n",
    "            raise Error(\"Queue Vacia\")\n",
    "        else:\n",
    "            c = self.stack_2.pop()#se obtiene el valor que sale de la cola\n",
    "            if self.stack_2.empty():#en caso que el stack de dequeue este vacio, se pasan los valores del stack de enqueue al stack de dequeue invertidos\n",
    "                for i in range(self.stack_1.size()):\n",
    "                    self.stack_2.push(self.stack_1.pop()) \n",
    "            self.l -= 1\n",
    "            return c\n",
    "    def full(self):\n",
    "        \"\"\"\n",
    "        Is the queue full?\n",
    "        \"\"\"\n",
    "        if self.l == self.n:\n",
    "            return True\n",
    "        return False\n",
    "\n",
    "    def empty(self):\n",
    "        \"\"\"\n",
    "        Is the queue empty?\n",
    "        \"\"\"\n",
    "        if self.l == 0:\n",
    "            return True\n",
    "        return False\n",
    "\n",
    "    def size(self):\n",
    "        \"\"\"\n",
    "        Return size of the queue\n",
    "        \"\"\"\n",
    "        return self.l\n",
    "        "
   ]
  },
  {
   "cell_type": "code",
   "execution_count": 8,
   "metadata": {},
   "outputs": [
    {
     "name": "stdout",
     "output_type": "stream",
     "text": [
      "1\n"
     ]
    }
   ],
   "source": [
    "\"\"\"\n",
    "Prueba de codigo:\n",
    "\"\"\"\n",
    "q = Queue_Stack(10) #Creacion queue de 10\n",
    "q.enqueue(1)\n",
    "q.enqueue(2)\n",
    "q.enqueue(3)\n",
    "q.enqueue(4)\n",
    "q.enqueue(5) #se insertan valores en la queue [1,2,3,4,5]"
   ]
  },
  {
   "cell_type": "code",
   "execution_count": 9,
   "metadata": {},
   "outputs": [
    {
     "name": "stdout",
     "output_type": "stream",
     "text": [
      "Valor fuera: 1\n"
     ]
    }
   ],
   "source": [
    "print(\"Valor fuera:\",q.dequeue()[0]) #se elimina un valor (1) de la cola tal que la queue queda tal que [2,3,4,5]"
   ]
  },
  {
   "cell_type": "code",
   "execution_count": 10,
   "metadata": {},
   "outputs": [
    {
     "name": "stdout",
     "output_type": "stream",
     "text": [
      "Valor fuera: 2\n"
     ]
    }
   ],
   "source": [
    "print(\"Valor fuera:\",q.dequeue()[0]) #se elimina otro valor (2) de la cola tal que la queue queda tal que [3,4,5]"
   ]
  },
  {
   "cell_type": "code",
   "execution_count": 11,
   "metadata": {},
   "outputs": [],
   "source": [
    "q.enqueue(6)\n",
    "q.enqueue(7)\n",
    "q.enqueue(8) #se insertan valores en la queue [3,4,5,6,7,8]"
   ]
  },
  {
   "cell_type": "code",
   "execution_count": 12,
   "metadata": {},
   "outputs": [
    {
     "name": "stdout",
     "output_type": "stream",
     "text": [
      "Valor fuera: 3\n"
     ]
    }
   ],
   "source": [
    "print(\"Valor fuera:\",q.dequeue()[0]) #se elimina otro valor (3) de la cola tal que la queue queda tal que [4,5,6,7,8]"
   ]
  },
  {
   "cell_type": "markdown",
   "metadata": {},
   "source": [
    "#### Respuesta a): Los metodos de la clase Queue utilizando stacks, conllevan las siguiete complejidades: - enqueue: tiene una complejidad constante tal que O(1). - dequeue: puede tener dos complejidades dependiendo del caso en el que este la queue, ya aveces puede cumplir con complejidad constante tal que O(1), pero en otros casos puede cumplir con complejidad lineal tal que O(n).\n",
    "\n",
    "#### Al comparar con las complejidades de los metodos de la clase original, se determina que utilizar el algoritmo que implementa dos stacks para construir una queue puede resultar mejor ya que la complejidad en el metodo dequeue en ciertos casos puede ser constante O(1), ya que la complejidad en el metodo dequeue de la clase Queue original 'siempre' va a tener la complejidad O(n)."
   ]
  },
  {
   "cell_type": "markdown",
   "metadata": {},
   "source": [
    "#### Respuesta b)"
   ]
  },
  {
   "cell_type": "markdown",
   "metadata": {},
   "source": [
    "Primero se reutiliza el decorador que permite medir el tiempo de ejecucion de las funciones"
   ]
  },
  {
   "cell_type": "code",
   "execution_count": 96,
   "metadata": {},
   "outputs": [],
   "source": [
    "# Codigo reutilizado del deber 1.\n",
    "from time import sleep\n",
    "def clock_time_dec(funcion): #declaracion del decorator (es como declarar una funcion)\n",
    "    def wrapper(*args,**kwargs):#definicion de la funcion envoltura, que toma de parametros lo que se ingrese en la funcion\n",
    "        time_1 = time()*10**6#tiempo inicial\n",
    "        salida = funcion(*args, **kwargs)#Ejecucion de funcion\n",
    "        time_2 = time()*10**6#tiempo final\n",
    "        return salida, (time_2-time_1) #retorno de funcion y tiempo de ejecucion, se resta el segundo de retraso por sleep\n",
    "    return wrapper\n"
   ]
  },
  {
   "cell_type": "code",
   "execution_count": 6,
   "metadata": {},
   "outputs": [],
   "source": [
    "\"\"\"\n",
    "A continuacion, para realizar la comparacion entre la diferencia del metodo dequeue() entre el queue con stacks y el queue\n",
    "hecho en clase, se copia el codigo de queue correspondiente al de las diapositivas de la clase.\n",
    "\"\"\"\n",
    "import ctypes\n",
    "class Queue(object):\n",
    "    \"\"\"\n",
    "    Implementation of the queue data structure\n",
    "    \"\"\"\n",
    "\n",
    "    def __init__(self, n):\n",
    "        self.l = 0\n",
    "        self.n = n\n",
    "        self.queue = self._create_queue(self.n)        \n",
    "    \n",
    "    def _create_queue(self, n):\n",
    "        \"\"\"\n",
    "        Creates a new stack of capacity n\n",
    "        \"\"\"\n",
    "        return (n * ctypes.py_object)()\n",
    "    def enqueue(self, item):\n",
    "        \"\"\"\n",
    "        Add new item to the queue\n",
    "        \"\"\"\n",
    "        if self.l == self.n:\n",
    "            raise ValueError(\"no more capacity\")\n",
    "        self.queue[self.l] = item\n",
    "        self.l += 1\n",
    "    @clock_time_dec\n",
    "    def dequeue(self):\n",
    "        \"\"\"\n",
    "        Remove an element from the queue\n",
    "        \"\"\"\n",
    "        c = self.queue[0]\n",
    "        for i in range(1,self.l):\n",
    "            self.queue[i-1] = self.queue[i]\n",
    "        self.queue[self.l - 1] = ctypes.py_object\n",
    "        self.l -= 1\n",
    "        return c"
   ]
  },
  {
   "cell_type": "code",
   "execution_count": 23,
   "metadata": {},
   "outputs": [
    {
     "name": "stdout",
     "output_type": "stream",
     "text": [
      "0\n",
      "0\n",
      "0\n",
      "0\n",
      "0\n"
     ]
    }
   ],
   "source": [
    "\"\"\"\n",
    "Para determinar la diferencia de tiempo de ejecucion entres los dequeue se procedera a realizar queues de gran tamaño, \n",
    "y realizar dequeues con cada tipo de queues, y se graficara los tiempos de ejecucion de cada dequeue\n",
    "realizado en cada tipo de queue.\n",
    "\"\"\"\n",
    "#Se instancia listas que contendran los tiempos de cada tipo de dequeue, y los dos tipo de queue.\n",
    "tiempos_dequeue_stack=[]\n",
    "tiempos_dequeue_original=[]\n",
    "valores=[100,10**3,10**4,10**5,10**6]\n",
    "for i in range(5):\n",
    "    queue_stack=Queue_Stack(valores[i])\n",
    "    queue_clase=Queue(valores[i])\n",
    "    for j in range(valores[i]):\n",
    "        queue_stack.enqueue(j)\n",
    "        queue_clase.enqueue(j)\n",
    "    tiempos_dequeue_stack.append(queue_stack.dequeue()[1])\n",
    "    tiempos_dequeue_original.append(queue_clase.dequeue()[1])"
   ]
  },
  {
   "cell_type": "code",
   "execution_count": 26,
   "metadata": {},
   "outputs": [
    {
     "data": {
      "image/png": "[encoded data removed]",
      "text/plain": [
       "<Figure size 432x288 with 1 Axes>"
      ]
     },
     "metadata": {
      "needs_background": "light"
     },
     "output_type": "display_data"
    }
   ],
   "source": [
    "\"\"\"\n",
    "A continuacion, se grafican los tiempos correspondientes a cada dequeue realizado\n",
    "\"\"\"\n",
    "data_frame_times = pd.DataFrame()\n",
    "data_frame_times[\"x\"] = valores\n",
    "data_frame_times['Queue Stack']=tiempos_dequeue_stack # asignacion columna Queue Stack con los valores de ejecucion con dequeue stacks\n",
    "data_frame_times['Queue Clase']=tiempos_dequeue_original # asignacion columna Queue Clase con los valores de ejecucion con dequeue clase\n",
    "data_frame_times.plot(x='x')# se grafica el dataframe\n",
    "plt.grid()"
   ]
  },
  {
   "cell_type": "markdown",
   "metadata": {},
   "source": [
    "#### Como se puede observar en la grafica, al realizar un primer dequeue en cada uno de los casos de queue se tiene que los tiempos de ejecucion en los queues hechos con stacks son mayores en comparacion con los queue normales. Esto se debe a que la funcion dequeue de los queue hecho con stacks, al realizar un primer dequeue proceden a pasar todos los elementos del stack que contiene los elementos de enqueue hacia el stack que contiene los elementos de dequeue, y a medida que el numero de elementos a pasar es mas grande entonces el tiempo de ejecucion sera mayor. Nota: los tiempos de ejecucion del primer dequeue en el queue hecho con stacks solo van a ser mayores cuando se realiza el primer dequeue de un queue inicializado con muchos elementos. A continuacion se realizara un segundo dequeue y se observara algo interesante en comparacion con los tiempos de ejecucion de los dequeue de los queues originales.\n"
   ]
  },
  {
   "cell_type": "code",
   "execution_count": 27,
   "metadata": {},
   "outputs": [
    {
     "name": "stdout",
     "output_type": "stream",
     "text": [
      "0\n",
      "0\n",
      "0\n",
      "0\n",
      "0\n"
     ]
    }
   ],
   "source": [
    "tiempos_dequeue_stack_1=[]\n",
    "tiempos_dequeue_original_1=[]\n",
    "valores=[100,10**3,10**4,10**5,10**6]\n",
    "for i in range(5):\n",
    "    queue_stack=Queue_Stack(valores[i])\n",
    "    queue_clase=Queue(valores[i])\n",
    "    for j in range(valores[i]):\n",
    "        queue_stack.enqueue(j)\n",
    "        queue_clase.enqueue(j)\n",
    "    queue_stack.dequeue()\n",
    "    tiempos_dequeue_stack_1.append(queue_stack.dequeue()[1])\n",
    "    tiempos_dequeue_original_1.append(queue_clase.dequeue()[1])"
   ]
  },
  {
   "cell_type": "code",
   "execution_count": 28,
   "metadata": {},
   "outputs": [
    {
     "data": {
      "image/png": "[encoded data removed]",
      "text/plain": [
       "<Figure size 432x288 with 1 Axes>"
      ]
     },
     "metadata": {
      "needs_background": "light"
     },
     "output_type": "display_data"
    }
   ],
   "source": [
    "\"\"\"\n",
    "A continuacion, se grafican los tiempos correspondientes a cada dequeue realizado\n",
    "\"\"\"\n",
    "data_frame_times = pd.DataFrame()\n",
    "data_frame_times[\"x\"] = valores\n",
    "data_frame_times['Queue Stack']=tiempos_dequeue_stack_1 # asignacion columna Queue Stack con los valores de ejecucion con dequeue stacks\n",
    "data_frame_times['Queue Clase']=tiempos_dequeue_original_1 # asignacion columna Queue Clase con los valores de ejecucion con dequeue clase\n",
    "data_frame_times.plot(x='x')# se grafica el dataframe\n",
    "plt.grid()"
   ]
  },
  {
   "cell_type": "markdown",
   "metadata": {},
   "source": [
    "#### En este caso se observa que los tiempos de dequeue en los queues hechos con stacks son casi nulos en comparacion con los tiempos de dequeue en los queues originales, esto se debe a que despues de realizar el primer dequeue y pasar todos los elementos del stack de enqueue hacia el stack de dequeue, el queue con stack solo realiza una operacion de complejidad O(1) ya que solo realiza un pop del stack de dequeue, a diferencia del queue original que tiene que recorrer todos los elementos del queue para sacar el ultimo y esto conlleva una complejidad O(n), o lineal."
   ]
  },
  {
   "cell_type": "markdown",
   "metadata": {},
   "source": [
    "Pregunta 3.b realizada en colaboracion con Christian Santamaria."
   ]
  },
  {
   "cell_type": "markdown",
   "metadata": {},
   "source": [
    "### 4. Complete the PriorityQueue class, so that when we call `dequeue`, the element with the highest priority will be returned. Analyze the complexity of runtime and memory of the `enqueue` and `dequeue` methods."
   ]
  },
  {
   "cell_type": "markdown",
   "metadata": {},
   "source": [
    "A = [4, 2, 7, 5, 9]  # O(n^2)\n",
    "\n",
    "B = [1, 3, 4, 5]\n",
    "insert 2 in B, such that B is still sorted \n",
    "Not O(n^2)"
   ]
  },
  {
   "cell_type": "markdown",
   "metadata": {},
   "source": [
    "### Para realizar esta pregunta, se modificara el metodo enqueue de la clase PriorityQueue class, donde cada vez que se meta un elemento a la queue, se realizara un insertion sort de las keys de las tuplas, para que asi al momento de realizar el dequeue, salga primero la tupla con mayor prioridad o (menor valor de key)."
   ]
  },
  {
   "cell_type": "code",
   "execution_count": 29,
   "metadata": {},
   "outputs": [],
   "source": [
    "class PriorityQueue_1(object):\n",
    "    \"\"\"\n",
    "    Implementation of the queue data structure\n",
    "    \"\"\"\n",
    "\n",
    "    def __init__(self, n):\n",
    "        self.l = 0\n",
    "        self.n = n\n",
    "        self.queue = self._create_queue(self.n)        \n",
    "    \n",
    "    def _create_queue(self, n):\n",
    "        \"\"\"\n",
    "        Creates a new stack of capacity n\n",
    "        \"\"\"\n",
    "        return (n * ctypes.py_object)()\n",
    "    \n",
    "    def enqueue(self, tupla): \n",
    "        \"\"\"\n",
    "        Add new item to the queue\n",
    "        Complejidad de tiempo O(n^2): el metodo enqueue incluye un algoritmo de ordenamiento, llamado insertion sort.\n",
    "        Complejidad de memoria O(1): Lectura y escritura de variables\n",
    "        \"\"\"\n",
    "        if self.l == self.n:\n",
    "            raise ValueError(\"no more capacity\")\n",
    "        self.queue[self.l] = tupla\n",
    "        self.l += 1\n",
    "        for i in range(1,self.l):\n",
    "            key_item=self.queue[i]\n",
    "            j=i-1\n",
    "            while j>=0 and self.queue[j][0]>key_item[0]:\n",
    "                temp=self.queue[j]\n",
    "                self.queue[j+1]=temp\n",
    "                j-=1\n",
    "            self.queue[j+1]=key_item\n",
    "            \n",
    "                    \n",
    "                    \n",
    "    def dequeue(self):# Mismo que el de la clase original\n",
    "        \"\"\"\n",
    "        Complejidad de tiempo O(n): el metodo dequeue recorre una sola vez todos los elementos de la cola, por lo tanto,\n",
    "        dicho trayecto le cuesta una complejidad de tiempo lineal.\n",
    "        Complejidad de memoria O(1): Lectura y escritura de variables\n",
    "        \"\"\"\n",
    "        c = self.queue[0]\n",
    "        for i in range(1,self.l):\n",
    "            self.queue[i-1] = self.queue[i]\n",
    "        self.queue[self.l - 1] = ctypes.py_object\n",
    "        self.l -= 1\n",
    "        return c"
   ]
  },
  {
   "cell_type": "code",
   "execution_count": 33,
   "metadata": {},
   "outputs": [],
   "source": [
    "\"\"\"\n",
    "Prueba de codigo:\n",
    "\"\"\"\n",
    "My_Pri1 = PriorityQueue_1(10)\n",
    "My_Pri1.enqueue((3,2))\n",
    "My_Pri1.enqueue((2,1))\n",
    "My_Pri1.enqueue((5,2))\n",
    "My_Pri1.enqueue((1,0))\n",
    "My_Pri1.enqueue((10,4))"
   ]
  },
  {
   "cell_type": "code",
   "execution_count": 34,
   "metadata": {},
   "outputs": [
    {
     "data": {
      "text/plain": [
       "(1, 0)"
      ]
     },
     "execution_count": 34,
     "metadata": {},
     "output_type": "execute_result"
    }
   ],
   "source": [
    "My_Pri1.dequeue()"
   ]
  },
  {
   "cell_type": "markdown",
   "metadata": {},
   "source": [
    "### Se observa que al realizar un dequeue de la priority queue, esta saca de la queue a aquel elemento con la prioridad mas alta, en este caso es el que menor valor llave tiene, el cual es el 1 que esta anexado con el valor base 0."
   ]
  },
  {
   "cell_type": "markdown",
   "metadata": {},
   "source": [
    "### 5. A given linked-list (singly or doubly) represents an integer number. For example, 345 is represented by the singly-linked list 3 -> 4 ->5. Write a Python program that does the following:\n",
    "\n",
    "1. Receives three integers A, B and C as inputs. Assume that the three number have the same number of digits.\n",
    "\n",
    "2. Transform the numbers to their corresponding linked lists\n",
    "\n",
    "3. Implement the sum of the three numbers. The result A + B + C must be stored in a linked list. \n",
    "\n",
    "4. Print the result by traversing the list. \n",
    "\n",
    "5. Run your program for numbers with 1 to 100 digits, and capture the runtime. Use these number to estimate the complexity of the runtime.\n",
    "    - Hint: write a small function that uses `randint()` to generate a number of a given number of digits \n",
    "6. Analitically estimate the runtime complexity and compare with the one obtained in (5)."
   ]
  },
  {
   "cell_type": "code",
   "execution_count": 97,
   "metadata": {},
   "outputs": [],
   "source": [
    "#5.1,5.2,5.3,5.4\n",
    "\"\"\"\n",
    "A continuacion, se construira la funcion que recibira los 3 numeros con mismo de numero de digitos para luego transformar\n",
    "esos numeros a linked lists, y luego implementar la suma de los tres numeros y devolver la linked list que contendra el\n",
    "resultado de la suma.\n",
    "\"\"\"\n",
    "@clock_time_dec\n",
    "def suma_link_lists(A,B,C):\n",
    "    \"\"\"\n",
    "    Complejidad de tiempo de ejecucion O(n): este algoritmo no incluye nada mas complicado que loops for que \n",
    "    iteran por las linked list, y estas al tener mismo numero de digitos no complica las iteraciones de los bucles, \n",
    "    por lo tanto, la complejidad de tiempo de ejecucion de este algoritmo es lineal.\n",
    "    \"\"\"\n",
    "    #Se convierte los 3 numeros en linked lists,\n",
    "    #Para esto se obtiene cada uno de los digitos de los numeros y se los almacena en listas para luego transformarlas en linked lists\n",
    "    A_1=[]\n",
    "    B_1=[]\n",
    "    C_1=[]\n",
    "    for i in str(A):\n",
    "        A_1.append(int(i))\n",
    "    for j in str(B):\n",
    "        B_1.append(int(j))\n",
    "    for k in str(C):\n",
    "        C_1.append(int(k))\n",
    "    #A continuacion se levanta una excepcion que controla que el numero de digitos de los numeros sean iguales:\n",
    "    if(len(A_1) != len(B_1) or len(A_1) != len(C_1) or len(B_1)!=len(C_1)):\n",
    "        raise Error(\"Los 3 numeros deben tener el mismo numero de digitos\")\n",
    "    #A continuacion se instancian los nodos para crear la linked list:\n",
    "    A_node = Node(A_1[0])\n",
    "    B_node = Node(B_1[0])\n",
    "    C_node = Node(C_1[0])\n",
    "    Linked_A=Singly_linked_list(A_node)\n",
    "    Linked_B=Singly_linked_list(B_node)\n",
    "    Linked_C=Singly_linked_list(C_node)\n",
    "    for i in range(1,len(A_1)):\n",
    "        Linked_A.insert_tail(Node(A_1[i]))\n",
    "        Linked_B.insert_tail(Node(B_1[i]))\n",
    "        Linked_C.insert_tail(Node(C_1[i]))\n",
    "    Linked_A.reverse_linked_list()\n",
    "    Linked_B.reverse_linked_list()\n",
    "    Linked_C.reverse_linked_list()\n",
    "    #Una vez ya transformadas a linked list, se implementa el algoritmo para la suma:\n",
    "    #Instancia valores que ayudaran al algoritmo de la suma con linked lists\n",
    "    suma=0\n",
    "    resd=0\n",
    "    r_head_node=None\n",
    "    prev_node= None\n",
    "    \n",
    "    for i in range(len(A_1)):\n",
    "        #se realiza la suma\n",
    "        suma = resd + Linked_A.head_node.val + Linked_B.head_node.val + Linked_C.head_node.val\n",
    "    #Aqui se controla cuanto se lleva en la suma para utilizarlo en la siguiente operacion\n",
    "        if suma >= 10 and suma < 20:\n",
    "            resd = 1\n",
    "        elif suma >=20:\n",
    "            resd = 2\n",
    "        else:\n",
    "            resd=0\n",
    "    \n",
    "        suma%=10 # Se obtiene solo el digito derecho correspodiente a la suma\n",
    "    \n",
    "        node_1=Node(suma) # Se instancia el nodo con que ira a la linked resultante\n",
    "    \n",
    "        if not r_head_node:\n",
    "            r_head_node=node_1\n",
    "        else:\n",
    "            prev_node.next_node=node_1\n",
    "        prev_node = node_1\n",
    "    \n",
    "    #Paso a los siguientes valores de la siguiente columna para la suma:\n",
    "    \n",
    "        Linked_A.head_node=Linked_A.head_node.next_node\n",
    "        Linked_B.head_node=Linked_B.head_node.next_node\n",
    "        Linked_C.head_node=Linked_C.head_node.next_node\n",
    "    \n",
    "    #Excepcion que maneja ya la ultima suma:\n",
    "    if resd >0:\n",
    "        node_1.next_node = Node(resd)\n",
    "    \n",
    "    Linked_Final= Singly_linked_list(r_head_node)\n",
    "    Linked_Final.reverse_linked_list()\n",
    "    return Linked_Final\n",
    "\n",
    "        "
   ]
  },
  {
   "cell_type": "code",
   "execution_count": 51,
   "metadata": {},
   "outputs": [
    {
     "name": "stdout",
     "output_type": "stream",
     "text": [
      "1\n",
      "3\n",
      "0\n",
      "2\n",
      "0\n"
     ]
    }
   ],
   "source": [
    "\"\"\"\n",
    "Prueba de codigo:\n",
    "\"\"\"\n",
    "L_1 = suma_link_lists(5554,2233,5233) # Se instancia una linked list que contendra el resultado de la suma\n",
    "L_1.list_traversed() # Se imprime el resultado de la suma con list.traversed()"
   ]
  },
  {
   "cell_type": "code",
   "execution_count": 141,
   "metadata": {},
   "outputs": [],
   "source": [
    "#5.5\n",
    "\"\"\"\n",
    "A continuacion se correra el programa para numeros con digitos del 1 al 1000, esto se debe a que asi, si se podra observar\n",
    "como actua el programa a medida que aumenta el numero de digitos, y asi determinar la complejidad de tiempo de ejecucion:\n",
    "\"\"\"\n",
    "import random\n",
    "#Primero se creara una funcion que devuelva un numero aleatorio con un especifico numero de digitos.\n",
    "def aleatorio(digitos):\n",
    "    dig_ant=digitos-1\n",
    "    return random.randint(10**dig_ant,10**digitos-1)\n",
    "#A continuacion se correra el programa 1000 veces con distinto numero de digitos por cada iteracion.\n",
    "\n",
    "tiempos_sumas=[]\n",
    "numeros=[]\n",
    "for i in range(1,1000):# loop que posibilita llenar la lista con listas de 3 numeros de mismo digito por cada iteracion\n",
    "    num_1=[]\n",
    "    for j in range(3):\n",
    "        num_1.append(aleatorio(i))# se instancia un numero aleatorio de i digitos\n",
    "    numeros.append(num_1) # se agrega a lista que\n",
    "for k in range(len(numeros)):\n",
    "    tiempos_sumas.append(suma_link_lists(numeros[k][0],numeros[k][1],numeros[k][2])[1])    "
   ]
  },
  {
   "cell_type": "code",
   "execution_count": 142,
   "metadata": {},
   "outputs": [
    {
     "data": {
      "image/png": "[encoded data removed]",
      "text/plain": [
       "<Figure size 432x288 with 1 Axes>"
      ]
     },
     "metadata": {
      "needs_background": "light"
     },
     "output_type": "display_data"
    }
   ],
   "source": [
    "\"\"\"\n",
    "A continuacion, se grafican los tiempos correspondientes a cada suma con diferente numero de digitos\n",
    "\"\"\"\n",
    "data_frame_times_1 = pd.DataFrame()\n",
    "data_frame_times_1[\"Digitos\"] = range(1,1000)\n",
    "data_frame_times_1['Tiempos sumas']=tiempos_sumas\n",
    "data_frame_times_1.plot(x='Digitos',logy=True)\n",
    "plt.grid()"
   ]
  },
  {
   "cell_type": "markdown",
   "metadata": {},
   "source": [
    "### Para obtener una mayor claridad al momento de analizar la complejidad del tiempo de ejecucion se realizo la suma de numeros de hasta 1000 digitos. Como se observa a medida que aumenta el numero de digitos tambien aumenta el tiempo de ejecucion, como si se siguiera un relacion lineal entre estos dos valores.\n",
    "### Por lo tanto, a partir de la ejecucion del programa y el analisis de los tiempos de ejecucion por medio de la grafica, se determina que la complejidad del tiempo de ejecucion de es de O(n)."
   ]
  },
  {
   "cell_type": "markdown",
   "metadata": {},
   "source": [
    "### 5.6 Analiticamente se determino que el algoritmo que suma las linked lists tiene una complejidad de tiempo de ejecucion lineal, ya que lo mas complicado de dicho algoritmo solo es un bucle for que itera por las linked lists que tienen igual tamaño. Por lo tanto, de igual manera que en la pregunta 5.5 se tiene que la complejidad del tiempo de ejecucion del algoritmo es de O(n)."
   ]
  },
  {
   "cell_type": "markdown",
   "metadata": {},
   "source": [
    "Pregunta realizada en colaboracion con Christian Santamaria."
   ]
  }
 ],
 "metadata": {
  "kernelspec": {
   "display_name": "Python 3",
   "language": "python",
   "name": "python3"
  },
  "language_info": {
   "codemirror_mode": {
    "name": "ipython",
    "version": 3
   },
   "file_extension": ".py",
   "mimetype": "text/x-python",
   "name": "python",
   "nbconvert_exporter": "python",
   "pygments_lexer": "ipython3",
   "version": "3.8.3"
  }
 },
 "nbformat": 4,
 "nbformat_minor": 4
}
