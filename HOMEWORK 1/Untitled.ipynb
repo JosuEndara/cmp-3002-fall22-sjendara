{
 "cells": [
  {
   "cell_type": "code",
   "execution_count": 21,
   "metadata": {},
   "outputs": [
    {
     "data": {
      "text/plain": [
       "1"
      ]
     },
     "execution_count": 21,
     "metadata": {},
     "output_type": "execute_result"
    }
   ],
   "source": [
    "def count_digits(n):\n",
    "    n_digitos=0\n",
    "    while n>0:\n",
    "        n=n//10 #division entera para 100, disminuye un digito del numero\n",
    "        n_digitos+=1\n",
    "    return n_digitos\n",
    "\n",
    "count_digits(1)\n",
    "        "
   ]
  },
  {
   "cell_type": "code",
   "execution_count": 12,
   "metadata": {},
   "outputs": [],
   "source": [
    "import ctypes\n",
    "class Array(object):#CLASE ARRAY \n",
    "    \n",
    "    def __init__(self, n, values=None):\n",
    "        self.l = 0\n",
    "        self.n = n\n",
    "        self.array = self._create_array(self.n)\n",
    "        if values:\n",
    "            self.initialize_array(values)\n",
    "            \n",
    "    def initialize_array(self, values):\n",
    "        \"\"\"\n",
    "        Initialize array\n",
    "        \"\"\"\n",
    "        if self.n != len(values):\n",
    "            raise ValueError(\"element count different than capacity\")\n",
    "        for item in values:\n",
    "            self.array[self.l] = item\n",
    "            self.l += 1\n",
    "    def _create_array(self, n):\n",
    "        \"\"\"\n",
    "        Creates a new array of capacity n\n",
    "        \"\"\"\n",
    "        return (n * ctypes.py_object)()\n",
    "    def __getitem__(self, item_index):\n",
    "        \"\"\"\n",
    "        Return element at item_index\n",
    "        \"\"\"\n",
    "        if (item_index < 0) or (item_index >= self.n):\n",
    "            raise IndexError('index out of range!')\n",
    "        try:\n",
    "            x = self.array[item_index]\n",
    "        except ValueError:\n",
    "            x = None\n",
    "        return x\n",
    "    \n",
    "    def __setitem__(self, item_index, item):\n",
    "        \"\"\"\n",
    "        Set element at item_index\n",
    "        \"\"\"\n",
    "        if (item_index < 0) or (item_index >= self.n):\n",
    "            raise IndexError('index out of range!')\n",
    "        self.array[item_index] = item\n",
    "\n",
    "            \n",
    "    def list_array(self):\n",
    "        \"\"\"\n",
    "        List elements of the array\n",
    "        using list comprehension\n",
    "        \"\"\"\n",
    "        return \", \".join(str(x) if x is not None else '_' for x in self)\n",
    "\n",
    "    def list_array2(self):    \n",
    "        y = []    \n",
    "        for x in self:\n",
    "            if x is not None:\n",
    "                y.append(str(x))\n",
    "            else:\n",
    "                y.append('_')\n",
    "        return \", \".join(y)\n",
    "    def insert(self, index, element):\n",
    "        \"\"\"\n",
    "        implementation of insert\n",
    "        \"\"\"\n",
    "        if self.l == self.n:\n",
    "            raise ValueError(\"no more capacity\")\n",
    "        if (index < 0) or (index > self.l):\n",
    "            raise IndexError('index out of range!')\n",
    "        x = self.l\n",
    "        while x > index:\n",
    "            self.array[x] = self.array[x-1]\n",
    "            x -= 1\n",
    "        self.array[index] = element\n",
    "        self.l += 1\n",
    "    \n",
    "\n",
    "    \n"
   ]
  },
  {
   "cell_type": "code",
   "execution_count": 72,
   "metadata": {},
   "outputs": [
    {
     "name": "stdout",
     "output_type": "stream",
     "text": [
      "[1, 1, 1, 1, 2]\n",
      "5\n"
     ]
    }
   ],
   "source": [
    "def get_array_digit_count(X):\n",
    "    Y=[]\n",
    "    for i in range(X.l):\n",
    "        Y.insert(i,count_digits(X[i]))\n",
    "        i+=1\n",
    "    return Y\n",
    "A=Array(5,[1,2,3,3,77])\n",
    "print(get_array_digit_count(A))\n",
    "print(A.l)"
   ]
  },
  {
   "cell_type": "code",
   "execution_count": 82,
   "metadata": {},
   "outputs": [
    {
     "ename": "IndexError",
     "evalue": "index out of range!",
     "output_type": "error",
     "traceback": [
      "\u001b[1;31m---------------------------------------------------------------------------\u001b[0m",
      "\u001b[1;31mIndexError\u001b[0m                                Traceback (most recent call last)",
      "\u001b[1;32m<ipython-input-82-bb6878dab61a>\u001b[0m in \u001b[0;36m<module>\u001b[1;34m\u001b[0m\n\u001b[0;32m     15\u001b[0m         \u001b[1;32mreturn\u001b[0m \u001b[1;32mTrue\u001b[0m\u001b[1;33m\u001b[0m\u001b[1;33m\u001b[0m\u001b[0m\n\u001b[0;32m     16\u001b[0m \u001b[0mX\u001b[0m\u001b[1;33m=\u001b[0m\u001b[0mArray\u001b[0m\u001b[1;33m(\u001b[0m\u001b[1;36m5\u001b[0m\u001b[1;33m,\u001b[0m\u001b[1;33m[\u001b[0m\u001b[1;36m1\u001b[0m\u001b[1;33m,\u001b[0m\u001b[1;36m2\u001b[0m\u001b[1;33m,\u001b[0m\u001b[1;36m3\u001b[0m\u001b[1;33m,\u001b[0m\u001b[1;36m4\u001b[0m\u001b[1;33m,\u001b[0m\u001b[1;36m5\u001b[0m\u001b[1;33m]\u001b[0m\u001b[1;33m)\u001b[0m\u001b[1;33m\u001b[0m\u001b[1;33m\u001b[0m\u001b[0m\n\u001b[1;32m---> 17\u001b[1;33m \u001b[0mcomprobar_Mont\u001b[0m\u001b[1;33m(\u001b[0m\u001b[0mX\u001b[0m\u001b[1;33m)\u001b[0m\u001b[1;33m\u001b[0m\u001b[1;33m\u001b[0m\u001b[0m\n\u001b[0m",
      "\u001b[1;32m<ipython-input-82-bb6878dab61a>\u001b[0m in \u001b[0;36mcomprobar_Mont\u001b[1;34m(X)\u001b[0m\n\u001b[0;32m      3\u001b[0m     \u001b[0mi\u001b[0m\u001b[1;33m=\u001b[0m\u001b[1;36m1\u001b[0m\u001b[1;33m\u001b[0m\u001b[1;33m\u001b[0m\u001b[0m\n\u001b[0;32m      4\u001b[0m     \u001b[1;32mfor\u001b[0m \u001b[0mi\u001b[0m \u001b[1;32min\u001b[0m \u001b[0mrange\u001b[0m\u001b[1;33m(\u001b[0m\u001b[0mX\u001b[0m\u001b[1;33m.\u001b[0m\u001b[0ml\u001b[0m\u001b[1;33m)\u001b[0m\u001b[1;33m:\u001b[0m\u001b[1;33m\u001b[0m\u001b[1;33m\u001b[0m\u001b[0m\n\u001b[1;32m----> 5\u001b[1;33m         \u001b[1;32mif\u001b[0m \u001b[0mX\u001b[0m\u001b[1;33m[\u001b[0m\u001b[0mi\u001b[0m\u001b[1;33m]\u001b[0m \u001b[1;33m>\u001b[0m \u001b[0mX\u001b[0m\u001b[1;33m[\u001b[0m\u001b[0mi\u001b[0m\u001b[1;33m-\u001b[0m\u001b[1;36m1\u001b[0m\u001b[1;33m]\u001b[0m\u001b[1;33m:\u001b[0m\u001b[1;33m\u001b[0m\u001b[1;33m\u001b[0m\u001b[0m\n\u001b[0m\u001b[0;32m      6\u001b[0m             \u001b[1;32mif\u001b[0m \u001b[0mi\u001b[0m \u001b[1;33m<\u001b[0m \u001b[0mX\u001b[0m\u001b[1;33m.\u001b[0m\u001b[0ml\u001b[0m\u001b[1;33m:\u001b[0m\u001b[1;33m\u001b[0m\u001b[1;33m\u001b[0m\u001b[0m\n\u001b[0;32m      7\u001b[0m                 \u001b[1;32mif\u001b[0m \u001b[0mX\u001b[0m\u001b[1;33m[\u001b[0m\u001b[0mi\u001b[0m\u001b[1;33m]\u001b[0m\u001b[1;33m>\u001b[0m\u001b[0mX\u001b[0m\u001b[1;33m[\u001b[0m\u001b[0mi\u001b[0m\u001b[1;33m+\u001b[0m\u001b[1;36m1\u001b[0m\u001b[1;33m]\u001b[0m\u001b[1;33m:\u001b[0m\u001b[1;33m\u001b[0m\u001b[1;33m\u001b[0m\u001b[0m\n",
      "\u001b[1;32m<ipython-input-12-c145daf54726>\u001b[0m in \u001b[0;36m__getitem__\u001b[1;34m(self, item_index)\u001b[0m\n\u001b[0;32m     28\u001b[0m         \"\"\"\n\u001b[0;32m     29\u001b[0m         \u001b[1;32mif\u001b[0m \u001b[1;33m(\u001b[0m\u001b[0mitem_index\u001b[0m \u001b[1;33m<\u001b[0m \u001b[1;36m0\u001b[0m\u001b[1;33m)\u001b[0m \u001b[1;32mor\u001b[0m \u001b[1;33m(\u001b[0m\u001b[0mitem_index\u001b[0m \u001b[1;33m>=\u001b[0m \u001b[0mself\u001b[0m\u001b[1;33m.\u001b[0m\u001b[0mn\u001b[0m\u001b[1;33m)\u001b[0m\u001b[1;33m:\u001b[0m\u001b[1;33m\u001b[0m\u001b[1;33m\u001b[0m\u001b[0m\n\u001b[1;32m---> 30\u001b[1;33m             \u001b[1;32mraise\u001b[0m \u001b[0mIndexError\u001b[0m\u001b[1;33m(\u001b[0m\u001b[1;34m'index out of range!'\u001b[0m\u001b[1;33m)\u001b[0m\u001b[1;33m\u001b[0m\u001b[1;33m\u001b[0m\u001b[0m\n\u001b[0m\u001b[0;32m     31\u001b[0m         \u001b[1;32mtry\u001b[0m\u001b[1;33m:\u001b[0m\u001b[1;33m\u001b[0m\u001b[1;33m\u001b[0m\u001b[0m\n\u001b[0;32m     32\u001b[0m             \u001b[0mx\u001b[0m \u001b[1;33m=\u001b[0m \u001b[0mself\u001b[0m\u001b[1;33m.\u001b[0m\u001b[0marray\u001b[0m\u001b[1;33m[\u001b[0m\u001b[0mitem_index\u001b[0m\u001b[1;33m]\u001b[0m\u001b[1;33m\u001b[0m\u001b[1;33m\u001b[0m\u001b[0m\n",
      "\u001b[1;31mIndexError\u001b[0m: index out of range!"
     ]
    }
   ],
   "source": [
    "def comprobar_Mont(X):\n",
    "    pico=0\n",
    "    i=1\n",
    "    for i in range(X.l):\n",
    "        if X[i] > X[i-1]:\n",
    "            if i < X.l:\n",
    "                if X[i]>X[i+1]:\n",
    "                    pico+=1\n",
    "        if X[i] == X[i-1]:\n",
    "                return False\n",
    "        i+=1\n",
    "    if pico>1 or pico<0:\n",
    "        return False\n",
    "    if pico == 1:\n",
    "        return True\n",
    "X=Array(5,[1,2,3,4,5])\n",
    "comprobar_Mont(X)"
   ]
  },
  {
   "cell_type": "code",
   "execution_count": 71,
   "metadata": {},
   "outputs": [
    {
     "name": "stdout",
     "output_type": "stream",
     "text": [
      "5, 2, 3, 6, 1, 4\n",
      "1, 2, 3, 4, 5, 6\n",
      "3.5\n"
     ]
    }
   ],
   "source": [
    "def sort_Array(A):\n",
    "    for i in range(0, A.l): #A.l es longitud de mi arreglo\n",
    "        for j in range(i+1, A.l):\n",
    "            if(A[i] > A[j]):\n",
    "                k = A[i];    \n",
    "                A[i] = A[j];    \n",
    "                A[j] = k;\n",
    "\n",
    "            \n",
    "A=Array(6,[5,2,3,6,1,4])\n",
    "print(A.list_array()) \n",
    "\n",
    "sort_Array(A)\n",
    "print(A.list_array())\n",
    "\n",
    "def median(A):\n",
    "    mitad = A.l // 2 #division entera para obtener el indice medio del array\n",
    "    if not A.l % 2:\n",
    "        return (A[mitad - 1] + A[mitad]) / 2.0 # si es par la longitud del arreglo se utiliza la formula dada por el problema\n",
    "    return A[mitad] # si no es par entonces se devuelve la mediana sin problema.\n",
    "\n",
    "print(median(A))\n"
   ]
  },
  {
   "cell_type": "code",
   "execution_count": 55,
   "metadata": {},
   "outputs": [
    {
     "name": "stdout",
     "output_type": "stream",
     "text": [
      "1\n",
      "1\n",
      "1\n",
      "1\n",
      "1\n",
      "1\n",
      "1\n",
      "1\n",
      "1\n"
     ]
    },
    {
     "data": {
      "text/plain": [
       "0"
      ]
     },
     "execution_count": 55,
     "metadata": {},
     "output_type": "execute_result"
    }
   ],
   "source": []
  }
 ],
 "metadata": {
  "kernelspec": {
   "display_name": "Python 3",
   "language": "python",
   "name": "python3"
  },
  "language_info": {
   "codemirror_mode": {
    "name": "ipython",
    "version": 3
   },
   "file_extension": ".py",
   "mimetype": "text/x-python",
   "name": "python",
   "nbconvert_exporter": "python",
   "pygments_lexer": "ipython3",
   "version": "3.8.3"
  }
 },
 "nbformat": 4,
 "nbformat_minor": 4
}
