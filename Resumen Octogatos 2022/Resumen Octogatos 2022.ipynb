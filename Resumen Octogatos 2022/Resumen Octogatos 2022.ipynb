{
 "cells": [
  {
   "cell_type": "markdown",
   "metadata": {},
   "source": [
    "# RESUMENES CHARLAS OCTOGATOS 2022"
   ]
  },
  {
   "cell_type": "markdown",
   "metadata": {},
   "source": [
    "### SEBASTIAN ENDARA 00323096"
   ]
  },
  {
   "cell_type": "markdown",
   "metadata": {},
   "source": [
    "## 1. Hacia una Inteligencia Artificial Responsable"
   ]
  },
  {
   "cell_type": "markdown",
   "metadata": {},
   "source": [
    "Para esta charla se tuvo a Luis Beltran y a Carly Chavez como los presentadores. Esta comenzo informando sobre algunos ejemplos que existen en la actualidad relacionados con IA y machine learning, como los carros autonomos, despues de mostrar los ejemplos, se explico como los sistemas que aplican IA brindan nuevas oportunidades a las empresas, pero tambien como el desarrollo de estos sistemas conlleva consigo gran responsabilidad, por lo tanto, las empresas deben tomar un enfoque claro sobre el desarrollo de estos sistemas, para evitar conflictos.\n",
    "\n",
    "A continuacion, se desarrollo el concepto de lo que significa Desarrollar una Inteligencia Artificial Responsable; la cual es una practica para diseñar una IA de manera justa, segura y con buenas intenciones, para que así la confianza de las personas hacia la IA aumente y gane confiabilidad.\n",
    "\n",
    "Además, se llevo acabo una numeracion de los 6 principios de una IA Responsable:\n",
    "\n",
    "    1. Equidad: Plantear que el modelo de Machine Learning utilizado para el desarrollo del IA, puede implementar un sesgo que puede ser identificado como una injusticia o impacto negativo.\n",
    "    2. Transparencia: Examinar la importancia de la caracteristicas para entrenar el modelo de Machine Learning.\n",
    "    3. Fiabilidad: Los modelos para el desarrollo deben ser seguros para que la gente confie en ellos, esto quiere decir que tengan un diseño seguro que responda a diferentes situaciones.\n",
    "    4. Privacidad: Evitar que se violente contra cualquier dato que sea de una persona.\n",
    "    5. Inclusion: El sistema de IA debe estar en sintonia de nuestro mundo diverso, por tanto, este tambien tiene que ser diverso.\n",
    "    6. Responsabilidad: Rendicion de cuentas. "
   ]
  },
  {
   "cell_type": "markdown",
   "metadata": {},
   "source": [
    "## 2. Construyendo un Open Source Machine en Comunidad"
   ]
  },
  {
   "cell_type": "markdown",
   "metadata": {},
   "source": [
    " El ponente de esta charla fue Omar Sanseviero. Esta comenzo mostrando ejemplos de como algunos proyectos de Machine Learning han tenido gran apoyo por parte de la comunidad, entre ellos se encontraba DALLE MINI, el cual fue un modelo que generaba imagenes a partir del texto que era ingresado. A continuacion, se introdujo a la charla algunos proyectos que fueron abiertos para la comunidad, entre estos se encuentran los modelos GPT-2 o BERT-101, de los cuales el primero fue un modelo de lenguaje que fue entrenado con 8 millones de paginas web, que tenia como objetivo predecir la siguiente palabra de una frase y el segundo era igual un modelo abierto pero requeria de muchos recursos para poder entrenarlo, por tanto, pocas instituciones pudieron hacer uso de este modelo.\n",
    " \n",
    " Despues de esa introduccion, el orador trajo a la charla a Hugging Face, la cual es una biblioteca que permite compartir modelos de tipo transformers entre la comunidad, esto quiere decir que la cultura del Open Source llego tambien al Machine Learning, ya que esta plataforma permite compartir modelos, para que asi las gente realice transfer learning con sus propios data sets, tambien esta permite que la gente evalue los modelos y que estos se encuentren publicados de forma transparente por medio de una IDEA MODEL CARD, la cual documenta el modelo y permite que la gente entienda como funciona el modelo correspondiente a esa CARD, por ultimo esta plataforma tambien permite tener control de versiones al igual que git.\n",
    " \n",
    " AL final se hablo como la gente usaria Hugging Face, y es que primero la gente busca un modelo que se ajuste a su data set, para que luego por medio de transfer learning lograr entrenar el modelo y al final que este nuevo modelo sea compartido con la comunidad."
   ]
  },
  {
   "cell_type": "markdown",
   "metadata": {},
   "source": [
    "## 3. Bitcoin, Blockchain, NFT, Mainstream y como evitar estafas"
   ]
  },
  {
   "cell_type": "markdown",
   "metadata": {},
   "source": [
    " La expositora para esta charla fue Dulce Villareal. Para empezar la charla Dulce explico cuales son los beneficios que trae la tecnologia Blockchain al mundo, y son las siguientes:\n",
    "     1. La blockchain es descentralizada.\n",
    "     2. La blockchain no tiene intermediarios.\n",
    "     3. Ni el estado ni los bancos pueden controlarla.\n",
    "     4. La blockchain ofrece bajos fees por transaccion.\n",
    "  Como se observa los beneficios de blockchain son varios puntos que si son importantes de analizar, ya que tanto Bitcoin como BlockChain son vistos como la nueva industria creciente, y por consiguiente, hay un monton de empresas que intentan ingresar a esta nueva tecnologia pero fallan en el intento, por tanto, Dulce a continuacion menciona que criterios hay que evaluar de las ofertas de trabajo correspondiente a esta nueva industria, para evitar caer en estafas o en proyectos que no tengan un enfoque claro, entre los criterios estan los siguientes:\n",
    "     1. Visualizar si el proyecto al que estas aplicando es relevante en el mundo crypto, esto se lo hace por medio de la observacion del proyecto en CoinMarketCap.\n",
    "     2. Buscar a la gente que esta detras del proyecto, como directores y los inversores.\n",
    "     3. Investigar de fallos o problemas que haya tenido la empresa que lleve el proyecto.\n",
    "     4. Identificar cuanta centralizacion tiene el token a sacar en el proyecto.\n"
   ]
  }
 ],
 "metadata": {
  "kernelspec": {
   "display_name": "Python 3",
   "language": "python",
   "name": "python3"
  },
  "language_info": {
   "codemirror_mode": {
    "name": "ipython",
    "version": 3
   },
   "file_extension": ".py",
   "mimetype": "text/x-python",
   "name": "python",
   "nbconvert_exporter": "python",
   "pygments_lexer": "ipython3",
   "version": "3.8.3"
  }
 },
 "nbformat": 4,
 "nbformat_minor": 4
}
